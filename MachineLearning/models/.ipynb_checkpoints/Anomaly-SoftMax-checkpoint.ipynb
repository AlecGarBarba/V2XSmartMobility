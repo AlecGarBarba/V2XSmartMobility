{
 "cells": [
  {
   "cell_type": "markdown",
   "metadata": {},
   "source": [
    "# Anomaly detector (encoder & decoder)"
   ]
  },
  {
   "cell_type": "code",
   "execution_count": 5,
   "metadata": {},
   "outputs": [],
   "source": [
    "import numpy as np\n",
    "from numpy import concatenate\n",
    "from matplotlib import pyplot\n",
    "import pandas as pd\n",
    "import sklearn\n",
    "from sklearn.preprocessing import MinMaxScaler\n",
    "from sklearn.metrics import mean_squared_error\n",
    "from tensorflow.keras.models import Sequential\n",
    "from tensorflow.keras.layers import Dense, Dropout, Activation , LSTM\n",
    "from tensorflow.keras.callbacks import Callback\n",
    "from tensorflow.keras import optimizers\n",
    "import tensorflow.keras as keras\n",
    "import sys\n",
    "import matplotlib.pyplot as plt\n",
    "import pandas as pd\n",
    "import json\n"
   ]
  },
  {
   "cell_type": "code",
   "execution_count": null,
   "metadata": {},
   "outputs": [],
   "source": []
  },
  {
   "cell_type": "code",
   "execution_count": 6,
   "metadata": {},
   "outputs": [
    {
     "data": {
      "text/plain": [
       "(4200, 5)"
      ]
     },
     "execution_count": 6,
     "metadata": {},
     "output_type": "execute_result"
    }
   ],
   "source": [
    "df = pd.read_csv(\"anomaly_train_dataset.csv\")\n",
    "df.shape"
   ]
  },
  {
   "cell_type": "code",
   "execution_count": 7,
   "metadata": {},
   "outputs": [],
   "source": [
    "class LossHistory(Callback):\n",
    "    def on_train_begin(self, logs={}):\n",
    "        self.losses = []\n",
    "\n",
    "    def on_batch_end(self, batch, logs={}):\n",
    "        sys.stdout.write(str(logs.get('loss'))+str(', '))\n",
    "        sys.stdout.flush()\n",
    "        self.losses.append(logs.get('loss'))\n",
    "        \n",
    "lr = LossHistory()"
   ]
  },
  {
   "cell_type": "code",
   "execution_count": 8,
   "metadata": {},
   "outputs": [],
   "source": [
    "def scaleData(data):\n",
    "    # normalize features\n",
    "    scaler = MinMaxScaler(feature_range=(0, 1))\n",
    "    return scaler.fit_transform(data)"
   ]
  },
  {
   "cell_type": "code",
   "execution_count": 78,
   "metadata": {},
   "outputs": [],
   "source": [
    "def removeOffset(dataframe): \n",
    "    return dataframe -dataframe.mean()"
   ]
  },
  {
   "cell_type": "code",
   "execution_count": 79,
   "metadata": {},
   "outputs": [],
   "source": [
    "def reshape(data):\n",
    "    data_scaled = scaleData(data)\n",
    "    data_scaled = data_scaled.T\n",
    "    return data_scaled.reshape(3, 300)"
   ]
  },
  {
   "cell_type": "code",
   "execution_count": 158,
   "metadata": {},
   "outputs": [],
   "source": [
    "healthy = pd.read_csv('anomaly_train_dataset.csv',  usecols=['Ax','Ay','Az'])\n",
    "baches= pd.read_csv('softmax_baches.csv',  usecols=['Ax','Ay','Az'])\n",
    "topes = pd.read_csv('softmax_topes.csv',  usecols=['Ax','Ay','Az'])\n",
    "curvas = pd.read_csv('softmax_curvas.csv',  usecols=['Ax','Ay','Az'])"
   ]
  },
  {
   "cell_type": "code",
   "execution_count": 159,
   "metadata": {},
   "outputs": [],
   "source": [
    "data_healthy_fft = healthy#np.fft.fft(healthy).real\n",
    "data_baches_fft =baches #np.fft.fft(baches).real\n",
    "data_topes_fft = topes#np.fft.fft(topes).real\n",
    "data_curvas_fft = curvas#np.fft.fft(curvas).real "
   ]
  },
  {
   "cell_type": "code",
   "execution_count": 160,
   "metadata": {},
   "outputs": [],
   "source": [
    "data_healthy_fft = np.fft.fft(healthy).real\n",
    "data_baches_fft =np.fft.fft(baches).real\n",
    "data_topes_fft = np.fft.fft(topes).real\n",
    "data_curvas_fft = np.fft.fft(curvas).real "
   ]
  },
  {
   "cell_type": "code",
   "execution_count": null,
   "metadata": {},
   "outputs": [],
   "source": []
  },
  {
   "cell_type": "code",
   "execution_count": 161,
   "metadata": {},
   "outputs": [],
   "source": [
    "data_healthy_fft = removeOffset(data_healthy_fft)\n",
    "data_baches_fft = removeOffset(data_baches_fft)\n",
    "data_topes_fft  = removeOffset(data_topes_fft)\n",
    "data_curvas_fft = removeOffset(data_curvas_fft)"
   ]
  },
  {
   "cell_type": "code",
   "execution_count": 162,
   "metadata": {},
   "outputs": [
    {
     "data": {
      "text/plain": [
       "array([[ 0.95933618, -0.46815405, -0.46815405],\n",
       "       [ 0.97374048, -0.60462866, -0.60462866],\n",
       "       [ 0.99302759, -0.54066382, -0.54066382],\n",
       "       ...,\n",
       "       [ 0.81309595, -0.51515112, -0.51515112],\n",
       "       [ 0.93760767, -0.34779272, -0.34779272],\n",
       "       [ 0.9913186 , -0.60462866, -0.60462866]])"
      ]
     },
     "execution_count": 162,
     "metadata": {},
     "output_type": "execute_result"
    }
   ],
   "source": [
    "data_baches_fft"
   ]
  },
  {
   "cell_type": "code",
   "execution_count": 163,
   "metadata": {},
   "outputs": [
    {
     "name": "stdout",
     "output_type": "stream",
     "text": [
      "(4200, 3)\n"
     ]
    }
   ],
   "source": [
    "print (data_healthy_fft.shape)"
   ]
  },
  {
   "cell_type": "code",
   "execution_count": 164,
   "metadata": {},
   "outputs": [
    {
     "name": "stdout",
     "output_type": "stream",
     "text": [
      "(3000, 3)\n",
      "(4800, 3)\n",
      "(2700, 3)\n"
     ]
    }
   ],
   "source": [
    "print (data_baches_fft.shape)\n",
    "print (data_topes_fft.shape)\n",
    "print (data_curvas_fft.shape)"
   ]
  },
  {
   "cell_type": "code",
   "execution_count": 165,
   "metadata": {},
   "outputs": [
    {
     "ename": "IndexError",
     "evalue": "only integers, slices (`:`), ellipsis (`...`), numpy.newaxis (`None`) and integer or boolean arrays are valid indices",
     "output_type": "error",
     "traceback": [
      "\u001b[1;31m---------------------------------------------------------------------------\u001b[0m",
      "\u001b[1;31mIndexError\u001b[0m                                Traceback (most recent call last)",
      "\u001b[1;32m<ipython-input-165-9b899656f536>\u001b[0m in \u001b[0;36m<module>\u001b[1;34m\u001b[0m\n\u001b[0;32m      2\u001b[0m \u001b[0mfig\u001b[0m\u001b[1;33m.\u001b[0m\u001b[0msuptitle\u001b[0m\u001b[1;33m(\u001b[0m\u001b[1;34m'Accelerometer Measures by Axis [time]'\u001b[0m\u001b[1;33m)\u001b[0m\u001b[1;33m\u001b[0m\u001b[1;33m\u001b[0m\u001b[0m\n\u001b[0;32m      3\u001b[0m \u001b[0msize\u001b[0m \u001b[1;33m=\u001b[0m \u001b[0mlen\u001b[0m\u001b[1;33m(\u001b[0m\u001b[0mdata_healthy_fft\u001b[0m\u001b[1;33m)\u001b[0m\u001b[1;33m\u001b[0m\u001b[1;33m\u001b[0m\u001b[0m\n\u001b[1;32m----> 4\u001b[1;33m \u001b[0maxs\u001b[0m\u001b[1;33m[\u001b[0m\u001b[1;36m0\u001b[0m\u001b[1;33m]\u001b[0m\u001b[1;33m.\u001b[0m\u001b[0mplot\u001b[0m\u001b[1;33m(\u001b[0m\u001b[0mrange\u001b[0m\u001b[1;33m(\u001b[0m\u001b[1;36m0\u001b[0m\u001b[1;33m,\u001b[0m\u001b[0msize\u001b[0m\u001b[1;33m)\u001b[0m\u001b[1;33m,\u001b[0m \u001b[0mdata_healthy_fft\u001b[0m\u001b[1;33m[\u001b[0m\u001b[1;34m'Ax'\u001b[0m\u001b[1;33m]\u001b[0m\u001b[1;33m,\u001b[0m \u001b[1;34m'-'\u001b[0m\u001b[1;33m,\u001b[0m \u001b[0mcolor\u001b[0m\u001b[1;33m=\u001b[0m\u001b[1;34m'blue'\u001b[0m\u001b[1;33m,\u001b[0m \u001b[0manimated\u001b[0m \u001b[1;33m=\u001b[0m \u001b[1;32mTrue\u001b[0m\u001b[1;33m,\u001b[0m \u001b[0mlinewidth\u001b[0m\u001b[1;33m=\u001b[0m\u001b[1;36m1\u001b[0m\u001b[1;33m)\u001b[0m\u001b[1;33m\u001b[0m\u001b[1;33m\u001b[0m\u001b[0m\n\u001b[0m\u001b[0;32m      5\u001b[0m \u001b[0maxs\u001b[0m\u001b[1;33m[\u001b[0m\u001b[1;36m1\u001b[0m\u001b[1;33m]\u001b[0m\u001b[1;33m.\u001b[0m\u001b[0mplot\u001b[0m\u001b[1;33m(\u001b[0m\u001b[0mrange\u001b[0m\u001b[1;33m(\u001b[0m\u001b[1;36m0\u001b[0m\u001b[1;33m,\u001b[0m\u001b[0msize\u001b[0m\u001b[1;33m)\u001b[0m\u001b[1;33m,\u001b[0m \u001b[0mdata_healthy_fft\u001b[0m\u001b[1;33m[\u001b[0m\u001b[1;34m'Ay'\u001b[0m\u001b[1;33m]\u001b[0m\u001b[1;33m,\u001b[0m \u001b[1;34m'-'\u001b[0m\u001b[1;33m,\u001b[0m \u001b[0mcolor\u001b[0m\u001b[1;33m=\u001b[0m\u001b[1;34m'red'\u001b[0m\u001b[1;33m,\u001b[0m \u001b[0manimated\u001b[0m \u001b[1;33m=\u001b[0m \u001b[1;32mTrue\u001b[0m\u001b[1;33m,\u001b[0m \u001b[0mlinewidth\u001b[0m\u001b[1;33m=\u001b[0m\u001b[1;36m1\u001b[0m\u001b[1;33m)\u001b[0m\u001b[1;33m\u001b[0m\u001b[1;33m\u001b[0m\u001b[0m\n\u001b[0;32m      6\u001b[0m \u001b[0maxs\u001b[0m\u001b[1;33m[\u001b[0m\u001b[1;36m2\u001b[0m\u001b[1;33m]\u001b[0m\u001b[1;33m.\u001b[0m\u001b[0mplot\u001b[0m\u001b[1;33m(\u001b[0m\u001b[0mrange\u001b[0m\u001b[1;33m(\u001b[0m\u001b[1;36m0\u001b[0m\u001b[1;33m,\u001b[0m\u001b[0msize\u001b[0m\u001b[1;33m)\u001b[0m\u001b[1;33m,\u001b[0m \u001b[0mdata_healthy_fft\u001b[0m\u001b[1;33m[\u001b[0m\u001b[1;34m'Az'\u001b[0m\u001b[1;33m]\u001b[0m\u001b[1;33m,\u001b[0m \u001b[1;34m'-'\u001b[0m\u001b[1;33m,\u001b[0m \u001b[0mcolor\u001b[0m\u001b[1;33m=\u001b[0m\u001b[1;34m'green'\u001b[0m\u001b[1;33m,\u001b[0m \u001b[0manimated\u001b[0m \u001b[1;33m=\u001b[0m \u001b[1;32mTrue\u001b[0m\u001b[1;33m,\u001b[0m \u001b[0mlinewidth\u001b[0m\u001b[1;33m=\u001b[0m\u001b[1;36m1\u001b[0m\u001b[1;33m)\u001b[0m\u001b[1;33m\u001b[0m\u001b[1;33m\u001b[0m\u001b[0m\n",
      "\u001b[1;31mIndexError\u001b[0m: only integers, slices (`:`), ellipsis (`...`), numpy.newaxis (`None`) and integer or boolean arrays are valid indices"
     ]
    },
    {
     "data": {
      "image/png": "[encoded data removed]",
      "text/plain": [
       "<Figure size 1120x800 with 3 Axes>"
      ]
     },
     "metadata": {},
     "output_type": "display_data"
    }
   ],
   "source": [
    "fig, axs = plt.subplots(3, figsize=(14, 10), dpi=80, facecolor='w', edgecolor='k')\n",
    "fig.suptitle('Accelerometer Measures by Axis [time]')\n",
    "size = len(data_healthy_fft)\n",
    "axs[0].plot(range(0,size), data_healthy_fft['Ax'], '-', color='blue', animated = True, linewidth=1)\n",
    "axs[1].plot(range(0,size), data_healthy_fft['Ay'], '-', color='red', animated = True, linewidth=1)\n",
    "axs[2].plot(range(0,size), data_healthy_fft['Az'], '-', color='green', animated = True, linewidth=1)\n",
    "axs[0].title.set_text('X axis')\n",
    "axs[1].title.set_text('Y axis')\n",
    "axs[2].title.set_text('Z axis')\n",
    "axs[0].set_ylim(( -0.7,1 ))\n",
    "axs[1].set_ylim(( -0.5,1 ))\n",
    "axs[2].set_ylim(( -0.7,1 ))\n",
    "\n",
    "\n"
   ]
  },
  {
   "cell_type": "code",
   "execution_count": null,
   "metadata": {},
   "outputs": [],
   "source": [
    "fig, axs = plt.subplots(3, figsize=(14, 10), dpi=80, facecolor='w', edgecolor='k')\n",
    "fig.suptitle('Accelerometer Measures by Axis [time]')\n",
    "size = len(data_baches_fft['Ax'][:800])\n",
    "axs[0].plot(range(0,size), data_baches_fft['Ax'][:800], '-', color='blue', animated = True, linewidth=1)\n",
    "axs[1].plot(range(0,size), data_baches_fft['Ay'][:800], '-', color='red', animated = True, linewidth=1)\n",
    "axs[2].plot(range(0,size), data_baches_fft['Az'][:800], '-', color='green', animated = True, linewidth=1)\n",
    "axs[0].title.set_text('X axis')\n",
    "axs[1].title.set_text('Y axis')\n",
    "axs[2].title.set_text('Z axis')\n",
    "axs[0].set_ylim(( -0.7,1 ))\n",
    "axs[1].set_ylim(( -0.5,1 ))\n",
    "axs[2].set_ylim(( -0.7,1 ))\n"
   ]
  },
  {
   "cell_type": "markdown",
   "metadata": {},
   "source": [
    "## Segment into 300 data points each and every thingy"
   ]
  },
  {
   "cell_type": "raw",
   "metadata": {},
   "source": [
    "0 - sin -      0  0  0\n",
    "1- tope -      1  0  0\n",
    "2- coladera    0  1  0\n",
    "3- curva       0  0  1"
   ]
  },
  {
   "cell_type": "code",
   "execution_count": null,
   "metadata": {},
   "outputs": [],
   "source": [
    "label_healthy = np.repeat([0,0,0],3)\n",
    "\n",
    "label_bache = np.array([[1,0,0],[1,0,0],[1,0,0]])\n",
    "label_tope = np.array([[0,1,0],[0,1,0],[0,1,0]])\n",
    "label_curva = np.array([[0,0,1],[0,0,1],[0,0,1]])\n",
    "\n",
    "\n",
    "label_tope.shape = (3,3)\n",
    "label_bache.shape = (3,3)\n",
    "label_curva.shape = (3,3)\n",
    "label_healthy.shape = (3,3)"
   ]
  },
  {
   "cell_type": "code",
   "execution_count": 166,
   "metadata": {},
   "outputs": [
    {
     "data": {
      "text/plain": [
       "array([[0, 1, 0],\n",
       "       [0, 1, 0],\n",
       "       [0, 1, 0]])"
      ]
     },
     "execution_count": 166,
     "metadata": {},
     "output_type": "execute_result"
    }
   ],
   "source": [
    "label_tope"
   ]
  },
  {
   "cell_type": "code",
   "execution_count": 167,
   "metadata": {},
   "outputs": [],
   "source": [
    "def createLabeledArray(data_fft, label, ammount):\n",
    "    array= []\n",
    "    count = 0\n",
    "    length = 300\n",
    "    loop = True\n",
    "    while loop:\n",
    "        if(count*length >=ammount):\n",
    "            loop = False\n",
    "            break\n",
    "        a = np.hstack(((reshape(data_fft[count*300 : count*300+length])), label))\n",
    "        if(count == 0):\n",
    "            array = a\n",
    "        else:\n",
    "            array = np.vstack((array, a))\n",
    "        count +=1\n",
    "    return array"
   ]
  },
  {
   "cell_type": "code",
   "execution_count": 168,
   "metadata": {},
   "outputs": [],
   "source": [
    "np_healthy_array = createLabeledArray(data_healthy_fft, label_healthy, 4200)\n",
    "np_baches_array =createLabeledArray(data_baches_fft, label_bache, 3000)\n",
    "np_topes_array =createLabeledArray(data_topes_fft, label_tope, 3000)\n",
    "np_curvas_array =createLabeledArray(data_curvas_fft, label_curva, 2700)\n"
   ]
  },
  {
   "cell_type": "code",
   "execution_count": null,
   "metadata": {},
   "outputs": [],
   "source": []
  },
  {
   "cell_type": "code",
   "execution_count": null,
   "metadata": {},
   "outputs": [],
   "source": [
    "\n"
   ]
  },
  {
   "cell_type": "code",
   "execution_count": 169,
   "metadata": {},
   "outputs": [],
   "source": [
    "\n",
    "\n",
    "train_both = np.vstack((np_healthy_array,np_baches_array,np_topes_array,np_curvas_array))"
   ]
  },
  {
   "cell_type": "code",
   "execution_count": 170,
   "metadata": {},
   "outputs": [
    {
     "data": {
      "text/plain": [
       "(129, 303)"
      ]
     },
     "execution_count": 170,
     "metadata": {},
     "output_type": "execute_result"
    }
   ],
   "source": [
    "train_both.shape"
   ]
  },
  {
   "cell_type": "code",
   "execution_count": 171,
   "metadata": {},
   "outputs": [],
   "source": [
    "tr_df=pd.DataFrame(train_both)"
   ]
  },
  {
   "cell_type": "code",
   "execution_count": 172,
   "metadata": {},
   "outputs": [
    {
     "data": {
      "text/html": [
       "<div>\n",
       "<style scoped>\n",
       "    .dataframe tbody tr th:only-of-type {\n",
       "        vertical-align: middle;\n",
       "    }\n",
       "\n",
       "    .dataframe tbody tr th {\n",
       "        vertical-align: top;\n",
       "    }\n",
       "\n",
       "    .dataframe thead th {\n",
       "        text-align: right;\n",
       "    }\n",
       "</style>\n",
       "<table border=\"1\" class=\"dataframe\">\n",
       "  <thead>\n",
       "    <tr style=\"text-align: right;\">\n",
       "      <th></th>\n",
       "      <th>0</th>\n",
       "      <th>1</th>\n",
       "      <th>2</th>\n",
       "      <th>3</th>\n",
       "      <th>4</th>\n",
       "      <th>5</th>\n",
       "      <th>6</th>\n",
       "      <th>7</th>\n",
       "      <th>8</th>\n",
       "      <th>9</th>\n",
       "      <th>...</th>\n",
       "      <th>293</th>\n",
       "      <th>294</th>\n",
       "      <th>295</th>\n",
       "      <th>296</th>\n",
       "      <th>297</th>\n",
       "      <th>298</th>\n",
       "      <th>299</th>\n",
       "      <th>300</th>\n",
       "      <th>301</th>\n",
       "      <th>302</th>\n",
       "    </tr>\n",
       "  </thead>\n",
       "  <tbody>\n",
       "    <tr>\n",
       "      <th>0</th>\n",
       "      <td>0.355102</td>\n",
       "      <td>0.316327</td>\n",
       "      <td>0.934694</td>\n",
       "      <td>0.736735</td>\n",
       "      <td>0.420408</td>\n",
       "      <td>0.183673</td>\n",
       "      <td>0.336735</td>\n",
       "      <td>0.344898</td>\n",
       "      <td>0.663265</td>\n",
       "      <td>0.475510</td>\n",
       "      <td>...</td>\n",
       "      <td>0.595918</td>\n",
       "      <td>0.493878</td>\n",
       "      <td>0.502041</td>\n",
       "      <td>0.238776</td>\n",
       "      <td>0.614286</td>\n",
       "      <td>0.410204</td>\n",
       "      <td>0.632653</td>\n",
       "      <td>0.0</td>\n",
       "      <td>0.0</td>\n",
       "      <td>0.0</td>\n",
       "    </tr>\n",
       "    <tr>\n",
       "      <th>1</th>\n",
       "      <td>0.702825</td>\n",
       "      <td>0.412429</td>\n",
       "      <td>0.178531</td>\n",
       "      <td>0.386441</td>\n",
       "      <td>0.381921</td>\n",
       "      <td>0.458757</td>\n",
       "      <td>0.719774</td>\n",
       "      <td>1.000000</td>\n",
       "      <td>0.600000</td>\n",
       "      <td>0.476836</td>\n",
       "      <td>...</td>\n",
       "      <td>0.430508</td>\n",
       "      <td>0.320904</td>\n",
       "      <td>0.421469</td>\n",
       "      <td>0.723164</td>\n",
       "      <td>0.484746</td>\n",
       "      <td>0.424859</td>\n",
       "      <td>0.515254</td>\n",
       "      <td>0.0</td>\n",
       "      <td>0.0</td>\n",
       "      <td>0.0</td>\n",
       "    </tr>\n",
       "    <tr>\n",
       "      <th>2</th>\n",
       "      <td>0.702825</td>\n",
       "      <td>0.412429</td>\n",
       "      <td>0.178531</td>\n",
       "      <td>0.386441</td>\n",
       "      <td>0.381921</td>\n",
       "      <td>0.458757</td>\n",
       "      <td>0.719774</td>\n",
       "      <td>1.000000</td>\n",
       "      <td>0.600000</td>\n",
       "      <td>0.476836</td>\n",
       "      <td>...</td>\n",
       "      <td>0.430508</td>\n",
       "      <td>0.320904</td>\n",
       "      <td>0.421469</td>\n",
       "      <td>0.723164</td>\n",
       "      <td>0.484746</td>\n",
       "      <td>0.424859</td>\n",
       "      <td>0.515254</td>\n",
       "      <td>0.0</td>\n",
       "      <td>0.0</td>\n",
       "      <td>0.0</td>\n",
       "    </tr>\n",
       "    <tr>\n",
       "      <th>3</th>\n",
       "      <td>0.587250</td>\n",
       "      <td>0.610431</td>\n",
       "      <td>0.656149</td>\n",
       "      <td>0.692853</td>\n",
       "      <td>0.675467</td>\n",
       "      <td>0.547972</td>\n",
       "      <td>0.608500</td>\n",
       "      <td>0.660013</td>\n",
       "      <td>0.567933</td>\n",
       "      <td>0.627173</td>\n",
       "      <td>...</td>\n",
       "      <td>0.622022</td>\n",
       "      <td>0.596909</td>\n",
       "      <td>0.978107</td>\n",
       "      <td>0.690921</td>\n",
       "      <td>0.916291</td>\n",
       "      <td>1.000000</td>\n",
       "      <td>0.476497</td>\n",
       "      <td>0.0</td>\n",
       "      <td>0.0</td>\n",
       "      <td>0.0</td>\n",
       "    </tr>\n",
       "    <tr>\n",
       "      <th>4</th>\n",
       "      <td>0.584043</td>\n",
       "      <td>0.595662</td>\n",
       "      <td>0.528660</td>\n",
       "      <td>0.479861</td>\n",
       "      <td>0.512393</td>\n",
       "      <td>0.591402</td>\n",
       "      <td>0.516654</td>\n",
       "      <td>0.563517</td>\n",
       "      <td>0.554996</td>\n",
       "      <td>0.526336</td>\n",
       "      <td>...</td>\n",
       "      <td>0.607281</td>\n",
       "      <td>0.350503</td>\n",
       "      <td>0.560418</td>\n",
       "      <td>0.719210</td>\n",
       "      <td>0.340821</td>\n",
       "      <td>0.199845</td>\n",
       "      <td>0.388071</td>\n",
       "      <td>0.0</td>\n",
       "      <td>0.0</td>\n",
       "      <td>0.0</td>\n",
       "    </tr>\n",
       "  </tbody>\n",
       "</table>\n",
       "<p>5 rows × 303 columns</p>\n",
       "</div>"
      ],
      "text/plain": [
       "        0         1         2         3         4         5         6    \\\n",
       "0  0.355102  0.316327  0.934694  0.736735  0.420408  0.183673  0.336735   \n",
       "1  0.702825  0.412429  0.178531  0.386441  0.381921  0.458757  0.719774   \n",
       "2  0.702825  0.412429  0.178531  0.386441  0.381921  0.458757  0.719774   \n",
       "3  0.587250  0.610431  0.656149  0.692853  0.675467  0.547972  0.608500   \n",
       "4  0.584043  0.595662  0.528660  0.479861  0.512393  0.591402  0.516654   \n",
       "\n",
       "        7         8         9    ...       293       294       295       296  \\\n",
       "0  0.344898  0.663265  0.475510  ...  0.595918  0.493878  0.502041  0.238776   \n",
       "1  1.000000  0.600000  0.476836  ...  0.430508  0.320904  0.421469  0.723164   \n",
       "2  1.000000  0.600000  0.476836  ...  0.430508  0.320904  0.421469  0.723164   \n",
       "3  0.660013  0.567933  0.627173  ...  0.622022  0.596909  0.978107  0.690921   \n",
       "4  0.563517  0.554996  0.526336  ...  0.607281  0.350503  0.560418  0.719210   \n",
       "\n",
       "        297       298       299  300  301  302  \n",
       "0  0.614286  0.410204  0.632653  0.0  0.0  0.0  \n",
       "1  0.484746  0.424859  0.515254  0.0  0.0  0.0  \n",
       "2  0.484746  0.424859  0.515254  0.0  0.0  0.0  \n",
       "3  0.916291  1.000000  0.476497  0.0  0.0  0.0  \n",
       "4  0.340821  0.199845  0.388071  0.0  0.0  0.0  \n",
       "\n",
       "[5 rows x 303 columns]"
      ]
     },
     "execution_count": 172,
     "metadata": {},
     "output_type": "execute_result"
    }
   ],
   "source": [
    "tr_df.head()"
   ]
  },
  {
   "cell_type": "code",
   "execution_count": 173,
   "metadata": {},
   "outputs": [
    {
     "data": {
      "text/plain": [
       "(129, 303)"
      ]
     },
     "execution_count": 173,
     "metadata": {},
     "output_type": "execute_result"
    }
   ],
   "source": [
    "tr_df.shape"
   ]
  },
  {
   "cell_type": "code",
   "execution_count": 174,
   "metadata": {},
   "outputs": [],
   "source": [
    "X_train = train_both[:120,:300]\n",
    "y_train = train_both[:120,300:]\n",
    "X_test = train_both[120:,:300]\n",
    "y_test=train_both[120:,300:]\n",
    "X_test2 =train_both[60:90,:300]\n",
    "y_test2 = train_both[80:90,300:]\n",
    "all_x = train_both[:,:300]\n",
    "all_y = train_both[:,300:]"
   ]
  },
  {
   "cell_type": "code",
   "execution_count": 175,
   "metadata": {},
   "outputs": [
    {
     "data": {
      "text/plain": [
       "(120, 300)"
      ]
     },
     "execution_count": 175,
     "metadata": {},
     "output_type": "execute_result"
    }
   ],
   "source": [
    "X_train.shape"
   ]
  },
  {
   "cell_type": "markdown",
   "metadata": {},
   "source": [
    "## Training started"
   ]
  },
  {
   "cell_type": "raw",
   "metadata": {},
   "source": [
    "Now we reshape again to have three examples (rows) and 3200 features (columns). It's important that you understand this. We have turned our initial data set which containd 3 columns (dimensions) of 3000 samples. Since we applied FFT on each column we've obtained 3000 spectrum values for each of the 3 three columns. We are now using each column with the 3200 spectrum values as one row (training example) and each of the 3200 spectrum values becomes a column (or feature) in the training data set"
   ]
  },
  {
   "cell_type": "code",
   "execution_count": 176,
   "metadata": {},
   "outputs": [],
   "source": [
    "dim = 300\n",
    "samples = 3"
   ]
  },
  {
   "cell_type": "code",
   "execution_count": 177,
   "metadata": {},
   "outputs": [],
   "source": [
    "number_of_neurons_layer1 = 10 \n",
    "number_of_neurons_layer2 = 10\n",
    "number_of_neurons_layer3 = 10\n",
    "number_of_epochs = 1250"
   ]
  },
  {
   "cell_type": "code",
   "execution_count": 178,
   "metadata": {},
   "outputs": [],
   "source": [
    "\n",
    "sgd = optimizers.SGD(lr=0.01, clipnorm=1.)\n",
    "\n",
    "model = Sequential()\n",
    "model.add(Dense(number_of_neurons_layer1,input_shape=(dim, ), activation='relu'))\n",
    "model.add(Dense(number_of_neurons_layer2, activation='relu'))\n",
    "model.add(Dense(number_of_neurons_layer3, activation='relu'))\n",
    "model.add(Dense( 3, activation= 'softmax'));\n",
    "model.compile(loss='binary_crossentropy', optimizer=sgd,metrics=['accuracy'])\n",
    "\n",
    "def train(data,label):\n",
    "    model.fit(data, label, epochs=number_of_epochs, batch_size=72, validation_data=(data, label), verbose=0, shuffle=True,callbacks=[lr])\n",
    "\n",
    "def score(data):\n",
    "    return model.predict(data)"
   ]
  },
  {
   "cell_type": "code",
   "execution_count": 187,
   "metadata": {},
   "outputs": [],
   "source": [
    "train(all_x,all_y)"
   ]
  },
  {
   "cell_type": "code",
   "execution_count": 180,
   "metadata": {},
   "outputs": [
    {
     "data": {
      "text/plain": [
       "[<matplotlib.lines.Line2D at 0x1c0ecbf5670>]"
      ]
     },
     "execution_count": 180,
     "metadata": {},
     "output_type": "execute_result"
    },
    {
     "data": {
      "image/png": "[encoded data removed]",
      "text/plain": [
       "<Figure size 1120x480 with 1 Axes>"
      ]
     },
     "metadata": {},
     "output_type": "display_data"
    }
   ],
   "source": [
    "fig, ax = plt.subplots(num=None, figsize=(14, 6), dpi=80, facecolor='w', edgecolor='k')\n",
    "size = len(lr.losses)\n",
    "ax.plot(range(0,size), lr.losses, '-', color='blue', animated = True, linewidth=1)"
   ]
  },
  {
   "cell_type": "code",
   "execution_count": 181,
   "metadata": {},
   "outputs": [],
   "source": [
    "#healthy_data =score([a[0][:300],a[1][:300],a[2][:300]])\n",
    "h = score(X_test)"
   ]
  },
  {
   "cell_type": "code",
   "execution_count": 182,
   "metadata": {},
   "outputs": [
    {
     "name": "stdout",
     "output_type": "stream",
     "text": [
      "1/1 [==============================] - 0s 997us/step - loss: 0.0257 - accuracy: 1.0000\n",
      "acuracy of test1: 1.0\n"
     ]
    }
   ],
   "source": [
    "test_score = model.evaluate(X_test, y_test) \n",
    "print(\"acuracy of test1:\", test_score[1])"
   ]
  },
  {
   "cell_type": "code",
   "execution_count": 183,
   "metadata": {},
   "outputs": [
    {
     "name": "stdout",
     "output_type": "stream",
     "text": [
      "5/5 [==============================] - 0s 599us/step - loss: 0.1513 - accuracy: 0.7597\n",
      "acuracy of test1: 0.7596899271011353\n"
     ]
    }
   ],
   "source": [
    "test_score2 = model.evaluate(all_x,all_y) \n",
    "print(\"acuracy of test1:\", test_score2[1])"
   ]
  },
  {
   "cell_type": "code",
   "execution_count": 184,
   "metadata": {},
   "outputs": [],
   "source": [
    "y_pred = model.predict(all_x)"
   ]
  },
  {
   "cell_type": "code",
   "execution_count": 185,
   "metadata": {},
   "outputs": [],
   "source": [
    "from sklearn.metrics import confusion_matrix\n",
    "matrix = confusion_matrix(all_y.argmax(axis=1), y_pred.argmax(axis=1) ,labels=[0, 1, 2])"
   ]
  },
  {
   "cell_type": "code",
   "execution_count": 186,
   "metadata": {},
   "outputs": [
    {
     "data": {
      "text/plain": [
       "<AxesSubplot:>"
      ]
     },
     "execution_count": 186,
     "metadata": {},
     "output_type": "execute_result"
    },
    {
     "data": {
      "image/png": "[encoded data removed]",
      "text/plain": [
       "<Figure size 432x288 with 2 Axes>"
      ]
     },
     "metadata": {
      "needs_background": "light"
     },
     "output_type": "display_data"
    }
   ],
   "source": [
    "import seaborn as sns\n",
    "sns.heatmap(matrix, annot=True)"
   ]
  },
  {
   "cell_type": "code",
   "execution_count": null,
   "metadata": {},
   "outputs": [],
   "source": []
  },
  {
   "cell_type": "code",
   "execution_count": null,
   "metadata": {},
   "outputs": [],
   "source": []
  },
  {
   "cell_type": "code",
   "execution_count": null,
   "metadata": {},
   "outputs": [],
   "source": []
  },
  {
   "cell_type": "code",
   "execution_count": 153,
   "metadata": {},
   "outputs": [
    {
     "data": {
      "text/plain": [
       "array([1, 0, 0, 0, 2, 2, 1, 0, 0, 2, 1, 1, 0, 1, 1, 2, 0, 0, 2, 1, 1, 0,\n",
       "       0, 1, 1, 1, 2, 1, 0, 2, 0, 1, 1, 2, 1, 1, 1, 1, 0, 0, 2, 2, 0, 0,\n",
       "       0, 0, 0, 0, 0, 0, 0, 0, 0, 0, 0, 0, 0, 0, 0, 0, 0, 0, 0, 0, 0, 0,\n",
       "       0, 0, 0, 0, 0, 0, 1, 1, 1, 1, 1, 1, 1, 1, 1, 1, 1, 1, 1, 1, 0, 1,\n",
       "       1, 1, 1, 1, 1, 1, 1, 1, 1, 1, 1, 1, 0, 0, 2, 2, 2, 2, 2, 2, 2, 2,\n",
       "       2, 2, 2, 2, 2, 2, 2, 2, 2, 2, 2, 2, 2, 2, 2, 2, 2, 2, 2],\n",
       "      dtype=int64)"
      ]
     },
     "execution_count": 153,
     "metadata": {},
     "output_type": "execute_result"
    }
   ],
   "source": [
    "y_pred.argmax(axis=1)"
   ]
  },
  {
   "cell_type": "code",
   "execution_count": 188,
   "metadata": {},
   "outputs": [],
   "source": [
    "model.save('anomaly_detector_v2_softmax.h5')\n",
    "\n",
    "# Recrea exactamente el mismo modelo solo desde el archivo "
   ]
  },
  {
   "cell_type": "code",
   "execution_count": 189,
   "metadata": {},
   "outputs": [],
   "source": [
    "#model = keras.models.load_model('anomaly_detector.h5')"
   ]
  },
  {
   "cell_type": "markdown",
   "metadata": {},
   "source": [
    "## Testing the NN"
   ]
  },
  {
   "cell_type": "code",
   "execution_count": 236,
   "metadata": {},
   "outputs": [],
   "source": [
    "bache1_test = pd.read_csv('rec_csv_file_plain_baches_street_1.csv',  usecols=['Ax','Ay','Az']).tail(75).head(50)\n",
    "\n",
    "while bache1_test.shape[0] < 300:\n",
    "    bache1_test = pd.concat([bache1_test,bache1_test])\n",
    "bache1_df = bache1_test.head(300)\n",
    "bache1_df_fft = np.fft.fft(bache1_df).real"
   ]
  },
  {
   "cell_type": "code",
   "execution_count": 237,
   "metadata": {},
   "outputs": [
    {
     "data": {
      "text/html": [
       "<div>\n",
       "<style scoped>\n",
       "    .dataframe tbody tr th:only-of-type {\n",
       "        vertical-align: middle;\n",
       "    }\n",
       "\n",
       "    .dataframe tbody tr th {\n",
       "        vertical-align: top;\n",
       "    }\n",
       "\n",
       "    .dataframe thead th {\n",
       "        text-align: right;\n",
       "    }\n",
       "</style>\n",
       "<table border=\"1\" class=\"dataframe\">\n",
       "  <thead>\n",
       "    <tr style=\"text-align: right;\">\n",
       "      <th></th>\n",
       "      <th>Ax</th>\n",
       "      <th>Ay</th>\n",
       "      <th>Az</th>\n",
       "    </tr>\n",
       "  </thead>\n",
       "  <tbody>\n",
       "    <tr>\n",
       "      <th>325</th>\n",
       "      <td>0.078369</td>\n",
       "      <td>0.046875</td>\n",
       "      <td>0.977295</td>\n",
       "    </tr>\n",
       "    <tr>\n",
       "      <th>326</th>\n",
       "      <td>0.062500</td>\n",
       "      <td>0.055908</td>\n",
       "      <td>1.019531</td>\n",
       "    </tr>\n",
       "    <tr>\n",
       "      <th>327</th>\n",
       "      <td>0.113525</td>\n",
       "      <td>0.036865</td>\n",
       "      <td>0.921143</td>\n",
       "    </tr>\n",
       "    <tr>\n",
       "      <th>328</th>\n",
       "      <td>0.064209</td>\n",
       "      <td>0.080811</td>\n",
       "      <td>0.868896</td>\n",
       "    </tr>\n",
       "    <tr>\n",
       "      <th>329</th>\n",
       "      <td>0.089844</td>\n",
       "      <td>0.063965</td>\n",
       "      <td>0.902832</td>\n",
       "    </tr>\n",
       "    <tr>\n",
       "      <th>...</th>\n",
       "      <td>...</td>\n",
       "      <td>...</td>\n",
       "      <td>...</td>\n",
       "    </tr>\n",
       "    <tr>\n",
       "      <th>370</th>\n",
       "      <td>0.146484</td>\n",
       "      <td>0.134277</td>\n",
       "      <td>0.903076</td>\n",
       "    </tr>\n",
       "    <tr>\n",
       "      <th>371</th>\n",
       "      <td>0.121094</td>\n",
       "      <td>0.150146</td>\n",
       "      <td>0.914307</td>\n",
       "    </tr>\n",
       "    <tr>\n",
       "      <th>372</th>\n",
       "      <td>0.170166</td>\n",
       "      <td>0.048584</td>\n",
       "      <td>0.798584</td>\n",
       "    </tr>\n",
       "    <tr>\n",
       "      <th>373</th>\n",
       "      <td>0.159180</td>\n",
       "      <td>0.210449</td>\n",
       "      <td>0.870361</td>\n",
       "    </tr>\n",
       "    <tr>\n",
       "      <th>374</th>\n",
       "      <td>0.151855</td>\n",
       "      <td>0.206299</td>\n",
       "      <td>0.854004</td>\n",
       "    </tr>\n",
       "  </tbody>\n",
       "</table>\n",
       "<p>300 rows × 3 columns</p>\n",
       "</div>"
      ],
      "text/plain": [
       "           Ax        Ay        Az\n",
       "325  0.078369  0.046875  0.977295\n",
       "326  0.062500  0.055908  1.019531\n",
       "327  0.113525  0.036865  0.921143\n",
       "328  0.064209  0.080811  0.868896\n",
       "329  0.089844  0.063965  0.902832\n",
       "..        ...       ...       ...\n",
       "370  0.146484  0.134277  0.903076\n",
       "371  0.121094  0.150146  0.914307\n",
       "372  0.170166  0.048584  0.798584\n",
       "373  0.159180  0.210449  0.870361\n",
       "374  0.151855  0.206299  0.854004\n",
       "\n",
       "[300 rows x 3 columns]"
      ]
     },
     "execution_count": 237,
     "metadata": {},
     "output_type": "execute_result"
    }
   ],
   "source": [
    "bache1_df"
   ]
  },
  {
   "cell_type": "code",
   "execution_count": 238,
   "metadata": {},
   "outputs": [],
   "source": [
    "bache_test = reshape(bache1_df)\n",
    "#bache_test\n",
    "#bache1_test_fft_scaled.reshape(3, 300)\n"
   ]
  },
  {
   "cell_type": "code",
   "execution_count": 239,
   "metadata": {},
   "outputs": [
    {
     "data": {
      "text/plain": [
       "[<matplotlib.lines.Line2D at 0x1c0833ee790>]"
      ]
     },
     "execution_count": 239,
     "metadata": {},
     "output_type": "execute_result"
    },
    {
     "data": {
      "image/png": "[encoded data removed]",
      "text/plain": [
       "<Figure size 1120x480 with 1 Axes>"
      ]
     },
     "metadata": {},
     "output_type": "display_data"
    }
   ],
   "source": [
    "fig, ax = plt.subplots(num=None, figsize=(14, 6), dpi=80, facecolor='w', edgecolor='k')\n",
    "size = len(bache1_df_fft)\n",
    "ax.plot(range(0,size), bache1_df_fft[:,0].real, '-', color='blue', animated = True, linewidth=1)\n",
    "ax.plot(range(0,size), bache1_df_fft[:,1].real, '-', color='red', animated = True, linewidth=1)\n",
    "ax.plot(range(0,size), bache1_df_fft[:,2].real, '-', color='green', animated = True, linewidth=1)"
   ]
  },
  {
   "cell_type": "code",
   "execution_count": 240,
   "metadata": {},
   "outputs": [],
   "source": [
    "result = score(bache_test) \n",
    "pred_index = np.argmax(result, axis =0)[:1]"
   ]
  },
  {
   "cell_type": "code",
   "execution_count": 241,
   "metadata": {},
   "outputs": [
    {
     "name": "stdout",
     "output_type": "stream",
     "text": [
      "The probability of anomaly: [10.513464   1.1038827 88.38265  ] %\n"
     ]
    }
   ],
   "source": [
    "print(\"The probability of anomaly:\", result[0]*100, \"%\")"
   ]
  },
  {
   "cell_type": "markdown",
   "metadata": {},
   "source": [
    "## Test 2"
   ]
  },
  {
   "cell_type": "code",
   "execution_count": null,
   "metadata": {},
   "outputs": [],
   "source": []
  },
  {
   "cell_type": "code",
   "execution_count": 214,
   "metadata": {},
   "outputs": [
    {
     "data": {
      "text/html": [
       "<div>\n",
       "<style scoped>\n",
       "    .dataframe tbody tr th:only-of-type {\n",
       "        vertical-align: middle;\n",
       "    }\n",
       "\n",
       "    .dataframe tbody tr th {\n",
       "        vertical-align: top;\n",
       "    }\n",
       "\n",
       "    .dataframe thead th {\n",
       "        text-align: right;\n",
       "    }\n",
       "</style>\n",
       "<table border=\"1\" class=\"dataframe\">\n",
       "  <thead>\n",
       "    <tr style=\"text-align: right;\">\n",
       "      <th></th>\n",
       "      <th>Ax</th>\n",
       "      <th>Ay</th>\n",
       "      <th>Az</th>\n",
       "    </tr>\n",
       "  </thead>\n",
       "  <tbody>\n",
       "    <tr>\n",
       "      <th>0</th>\n",
       "      <td>0.118408</td>\n",
       "      <td>0.085938</td>\n",
       "      <td>0.892334</td>\n",
       "    </tr>\n",
       "    <tr>\n",
       "      <th>1</th>\n",
       "      <td>0.123779</td>\n",
       "      <td>0.079590</td>\n",
       "      <td>0.902100</td>\n",
       "    </tr>\n",
       "    <tr>\n",
       "      <th>2</th>\n",
       "      <td>0.115479</td>\n",
       "      <td>0.082764</td>\n",
       "      <td>0.924561</td>\n",
       "    </tr>\n",
       "    <tr>\n",
       "      <th>3</th>\n",
       "      <td>0.109863</td>\n",
       "      <td>0.088623</td>\n",
       "      <td>0.938232</td>\n",
       "    </tr>\n",
       "    <tr>\n",
       "      <th>4</th>\n",
       "      <td>0.114502</td>\n",
       "      <td>0.086670</td>\n",
       "      <td>0.928955</td>\n",
       "    </tr>\n",
       "    <tr>\n",
       "      <th>...</th>\n",
       "      <td>...</td>\n",
       "      <td>...</td>\n",
       "      <td>...</td>\n",
       "    </tr>\n",
       "    <tr>\n",
       "      <th>295</th>\n",
       "      <td>0.162842</td>\n",
       "      <td>0.145508</td>\n",
       "      <td>0.936523</td>\n",
       "    </tr>\n",
       "    <tr>\n",
       "      <th>296</th>\n",
       "      <td>0.159912</td>\n",
       "      <td>0.092529</td>\n",
       "      <td>0.883545</td>\n",
       "    </tr>\n",
       "    <tr>\n",
       "      <th>297</th>\n",
       "      <td>0.108887</td>\n",
       "      <td>0.151855</td>\n",
       "      <td>0.960693</td>\n",
       "    </tr>\n",
       "    <tr>\n",
       "      <th>298</th>\n",
       "      <td>0.089844</td>\n",
       "      <td>0.161621</td>\n",
       "      <td>1.001709</td>\n",
       "    </tr>\n",
       "    <tr>\n",
       "      <th>299</th>\n",
       "      <td>0.063232</td>\n",
       "      <td>0.066895</td>\n",
       "      <td>0.924561</td>\n",
       "    </tr>\n",
       "  </tbody>\n",
       "</table>\n",
       "<p>300 rows × 3 columns</p>\n",
       "</div>"
      ],
      "text/plain": [
       "           Ax        Ay        Az\n",
       "0    0.118408  0.085938  0.892334\n",
       "1    0.123779  0.079590  0.902100\n",
       "2    0.115479  0.082764  0.924561\n",
       "3    0.109863  0.088623  0.938232\n",
       "4    0.114502  0.086670  0.928955\n",
       "..        ...       ...       ...\n",
       "295  0.162842  0.145508  0.936523\n",
       "296  0.159912  0.092529  0.883545\n",
       "297  0.108887  0.151855  0.960693\n",
       "298  0.089844  0.161621  1.001709\n",
       "299  0.063232  0.066895  0.924561\n",
       "\n",
       "[300 rows x 3 columns]"
      ]
     },
     "execution_count": 214,
     "metadata": {},
     "output_type": "execute_result"
    }
   ],
   "source": [
    "plain1 = pd.read_csv('rec_csv_file_plain_street_1.csv',  usecols=['Ax','Ay','Az']).head(300)\n",
    "#park = pd.read_csv('rec_csv_file_park.csv')\n",
    "while plain1.shape[0] < 300:\n",
    "    plain1 = pd.concat([plain1,plain1])\n",
    "\n",
    "plain1 = plain1.head(300)\n",
    "plain1"
   ]
  },
  {
   "cell_type": "code",
   "execution_count": 197,
   "metadata": {},
   "outputs": [],
   "source": [
    "plain1_df_fft = np.fft.fft(plain1).real"
   ]
  },
  {
   "cell_type": "code",
   "execution_count": 198,
   "metadata": {},
   "outputs": [],
   "source": [
    "plain_test = reshape(plain1)"
   ]
  },
  {
   "cell_type": "code",
   "execution_count": 199,
   "metadata": {},
   "outputs": [
    {
     "data": {
      "text/plain": [
       "[<matplotlib.lines.Line2D at 0x1c0ed008040>]"
      ]
     },
     "execution_count": 199,
     "metadata": {},
     "output_type": "execute_result"
    },
    {
     "data": {
      "image/png": "[encoded data removed]",
      "text/plain": [
       "<Figure size 1120x480 with 1 Axes>"
      ]
     },
     "metadata": {},
     "output_type": "display_data"
    }
   ],
   "source": [
    "fig, ax = plt.subplots(num=None, figsize=(14, 6), dpi=80, facecolor='w', edgecolor='k')\n",
    "size = len(plain1_df_fft)\n",
    "ax.plot(range(0,size), plain1_df_fft[:,0].real, '-', color='blue', animated = True, linewidth=1)\n",
    "ax.plot(range(0,size), plain1_df_fft[:,1].real, '-', color='red', animated = True, linewidth=1)\n",
    "ax.plot(range(0,size), plain1_df_fft[:,2].real, '-', color='green', animated = True, linewidth=1)"
   ]
  },
  {
   "cell_type": "code",
   "execution_count": 200,
   "metadata": {},
   "outputs": [],
   "source": [
    "result2 = score(plain_test) \n",
    "pred_index2 = np.argmax(result, axis =0)[:1]"
   ]
  },
  {
   "cell_type": "code",
   "execution_count": 201,
   "metadata": {},
   "outputs": [
    {
     "name": "stdout",
     "output_type": "stream",
     "text": [
      "The probability of anomaly: [28.78453  35.989178 35.226284] %\n"
     ]
    }
   ],
   "source": [
    "print(\"The probability of anomaly:\", result2[0]*100, \"%\")"
   ]
  },
  {
   "cell_type": "code",
   "execution_count": null,
   "metadata": {},
   "outputs": [],
   "source": []
  }
 ],
 "metadata": {
  "kernelspec": {
   "display_name": "Python 3",
   "language": "python",
   "name": "python3"
  },
  "language_info": {
   "codemirror_mode": {
    "name": "ipython",
    "version": 3
   },
   "file_extension": ".py",
   "mimetype": "text/x-python",
   "name": "python",
   "nbconvert_exporter": "python",
   "pygments_lexer": "ipython3",
   "version": "3.8.8"
  }
 },
 "nbformat": 4,
 "nbformat_minor": 4
}
